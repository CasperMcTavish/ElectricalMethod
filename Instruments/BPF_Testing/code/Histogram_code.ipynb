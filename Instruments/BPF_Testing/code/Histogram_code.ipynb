{
 "cells": [
  {
   "cell_type": "code",
   "execution_count": 1,
   "id": "737a0c75",
   "metadata": {},
   "outputs": [],
   "source": [
    "import serial, time, csv, math, pandas as pd, pyvisa, glob, matplotlib.pyplot as plt, os.path, numpy as np, pathlib, datetime;\n",
    "from csv import reader\n",
    "import sys\n",
    "from scipy import interpolate"
   ]
  },
  {
   "cell_type": "code",
   "execution_count": null,
   "id": "8e0b78d9",
   "metadata": {},
   "outputs": [],
   "source": [
    "#generates csv file of data for each bandpass filter\n",
    "\n",
    "#find intersection point with horizontal 3dB line\n",
    "def find_roots(x,y): \n",
    "    s = np.abs(np.diff(np.sign(y))).astype(bool)\n",
    "    return x[:-1][s] + np.diff(x)[s]/(np.abs(y[1:][s]/y[:-1][s])+1) \n",
    "\n",
    "homedir = \"/Volumes/GoogleDrive/.shortcut-targets-by-id/1OcwVYdCFsNitauuq7YD82J3wd781RFEz/Zhao_Nicole /jupyter_homedir/BPF_results/test\"\n",
    "os.chdir(homedir)\n",
    "#make a list of all folders\n",
    "dirs = [d for d in os.listdir(homedir) if os.path.isdir(os.path.join(homedir, d))]\n",
    "\n",
    "for d in dirs: \n",
    "    os.chdir(homedir + '/' + d) \n",
    "    \n",
    "    #create list to store x & y values pulled from files\n",
    "    xs = [] #bandpass freq\n",
    "    ys = [] #vout/vin\n",
    "    zs = [] #store Vin freq (Hz) values\n",
    "    colors = ['g','y','c']\n",
    "    output = [] #output value for text file\n",
    "\n",
    "    #import and read file\n",
    "    file_list = glob.glob(homedir + '/' + d + '/*.csv')\n",
    "    file_list.sort() \n",
    "    \n",
    "    for file in file_list:\n",
    "        data = pd.read_csv(file)\n",
    "        #print(data)\n",
    "        xs.append(data[\"BP freq (Hz)\"][0])\n",
    "        ys.append(data[\"Vout dmm (V)\"]/data[\"Vin (V)\"])\n",
    "        zs.append(data[\"Vin freq (Hz)\"]) \n",
    "    \n",
    "        fname = str(\"data_\" + d + '.csv') \n",
    "        cwd = os.getcwd()\n",
    "        new_dir= pathlib.Path(cwd)\n",
    "        fpath = (new_dir / fname).with_suffix('.csv')\n",
    "        with fpath.open(mode='w+') as csvfile:\n",
    "            logfile = csv.writer(csvfile)    \n",
    "            logfile.writerow([\"SN\", \"Timestamp\", \"f0Nominal_Hz\", \"f0Meas_Hz\", \"BW_3dB\", \"Ratio\"])\n",
    "        \n",
    "            #iterate over each center freq\n",
    "            for ifc in range(len(xs)): \n",
    "                xmin = min(zs[ifc]) #establish min & max freq range on xaxis based on data set\n",
    "                xmax = max(zs[ifc]) \n",
    "\n",
    "                #have values interpolated\n",
    "                f = interpolate.interp1d(zs[ifc],ys[ifc],'cubic')\n",
    "                x_interp = np.arange(xmin,xmax,0.01) #map to 1/100 hz \n",
    "                y_interp = f(x_interp) #map y against x\n",
    "\n",
    "                #plot zero\n",
    "                roots = find_roots(x_interp,10**(-3/20)-y_interp) #find roots at y=-3dB\n",
    "\n",
    "                #find important values \n",
    "                #print (\"np.max(y):\"+ str(np.max(y_interp)))\n",
    "                f0 = x_interp[np.argmax(y_interp)] #xmax; 1 decimal place \n",
    "                #print(f0)\n",
    "                BW3dB = float(np.diff(roots)) #find 3dB bandwidth\n",
    "                ratio = f0/BW3dB #ratio of f0/BW3dB\n",
    "                #plt.text(400,0.004+0.02*ifc,\"f_0=\" + \"{:.2f}\".format(f0) + \"Hz\"  + \"\\nBW_3dB=\" \n",
    "                       #+ \"{:.2f}\".format(BW3dB) + \"Hz\" + \"\\nRatio=\" + \"{:.2f}\".format(ratio),fontsize=10, bbox = dict(facecolor = 'blue', alpha = 0.2,edgecolor='blue')) \n",
    "                #write to csv file \n",
    "                logfile.writerow([d[3:6],d[7:],xs[ifc],\"{:.7f}\".format(f0),\"{:.7f}\".format(BW3dB), \n",
    "                               \"{:.7f}\".format(ratio)])"
   ]
  },
  {
   "cell_type": "code",
   "execution_count": 62,
   "id": "e0889470",
   "metadata": {},
   "outputs": [
    {
     "name": "stdout",
     "output_type": "stream",
     "text": [
      "[49.89298592 49.97026041 50.05493355 49.71112094 49.6061674  49.55099613\n",
      " 49.9524283  50.21368268 50.04602147 50.63961663 50.03915584 49.63697312\n",
      " 49.50047027 50.1439355  50.29698444 51.01280279 50.77835726 50.12566285\n",
      " 50.35047971 49.18924611 50.13798941 49.91225649 49.49340247 49.24647486\n",
      " 49.51204776 50.23238424 49.78677753 51.16658662 49.57070476 50.3580325\n",
      " 50.01413753 49.90760659 49.81456317 50.41461338 49.97229876 50.4269575\n",
      " 49.63961431 50.18532392 49.87848242 51.02137109]\n",
      "(array([2., 5., 4., 9., 7., 6., 2., 1., 1., 3.]), array([49.18924611, 49.38698016, 49.58471421, 49.78244826, 49.98018231,\n",
      "       50.17791636, 50.37565041, 50.57338446, 50.77111851, 50.96885257,\n",
      "       51.16658662]), <BarContainer object of 10 artists>)\n",
      "(array([4., 4., 6., 7., 3., 4., 4., 5., 1., 2.]), array([147.71068069, 148.19019623, 148.66971176, 149.1492273 ,\n",
      "       149.62874284, 150.10825837, 150.58777391, 151.06728944,\n",
      "       151.54680498, 152.02632052, 152.50583605]), <BarContainer object of 10 artists>)\n",
      "(array([ 1.,  2.,  1.,  4.,  5.,  7., 11.,  3.,  4.,  2.]), array([243.744071  , 244.78414024, 245.82420947, 246.86427871,\n",
      "       247.90434794, 248.94441718, 249.98448641, 251.02455565,\n",
      "       252.06462488, 253.10469412, 254.14476335]), <BarContainer object of 10 artists>)\n"
     ]
    },
    {
     "data": {
      "image/png": "[encoded data removed]",
      "text/plain": [
       "<Figure size 432x288 with 1 Axes>"
      ]
     },
     "metadata": {
      "needs_background": "light"
     },
     "output_type": "display_data"
    }
   ],
   "source": [
    "#james' code\n",
    "\n",
    "import numpy as np\n",
    "import matplotlib.pyplot as plt\n",
    "\n",
    "# generate random values centered on 50, 150 and 250 (Hz)\n",
    "nn = 40 # how many random values to generate at each center frequency\n",
    "f50  = np.random.normal(loc=50, scale=0.5, size=nn)\n",
    "f150 = np.random.normal(loc=150, scale=1.0, size=nn)\n",
    "f250 = np.random.normal(loc=250, scale=2.0, size=nn)\n",
    "\n",
    "# make a single array containing all f0 values\n",
    "# this is what you would get from your test\n",
    "f0 = np.concatenate((f50, f150, f250))\n",
    "\n",
    "# a way to pull out a specific set of f0 values from the full list\n",
    "id50  = np.where( f0 < 100)[0]\n",
    "id150 = np.where((f0 > 100) & (f0<200) )[0]\n",
    "id250 = np.where(f0 > 200)[0]\n",
    "\n",
    "print (f0[id50])\n",
    "# plot a separate historgram for 50, 150 and 250Hz data\n",
    "a=plt.hist(f0[id50], bins=10)\n",
    "b=plt.hist(f0[id150], bins=10)\n",
    "c=plt.hist(f0[id250], bins=10)\n",
    "plt.xlabel('f0 values')\n",
    "plt.ylabel(\"number of chips with each value\")\n",
    "plt.savefig('histtest.pdf')\n",
    "print(a)\n",
    "print(b)\n",
    "print(c)"
   ]
  },
  {
   "cell_type": "code",
   "execution_count": 72,
   "id": "3823e1ab",
   "metadata": {
    "scrolled": false
   },
   "outputs": [
    {
     "name": "stdout",
     "output_type": "stream",
     "text": [
      "[50.13, 50.13, 50.1, 50.06, 50.11, 50.11, 50.08, 50.07, 50.13, 50.12, 50.12, 50.11, 50.1, 50.11, 50.12, 50.13, 50.12, 50.1, 50.12, 50.1, 50.07, 50.1, 50.14, 50.09, 50.08, 50.1, 50.12, 50.12, 50.09, 50.12, 50.11, 50.1, 50.11, 50.11, 50.1, 50.14, 50.11, 50.11, 50.13, 50.06]\n",
      "[50.13 50.13 50.1  50.06 50.11 50.11 50.08 50.07 50.13 50.12 50.12 50.11\n",
      " 50.1  50.11 50.12 50.13 50.12 50.1  50.12 50.1  50.07 50.1  50.14 50.09\n",
      " 50.08 50.1  50.12 50.12 50.09 50.12 50.11 50.1  50.11 50.11 50.1  50.14\n",
      " 50.11 50.11 50.13 50.06]\n",
      "(array([ 5.,  0.,  0.,  0.,  1., 22.,  0.,  0.,  0., 12.]), array([5.08 , 5.082, 5.084, 5.086, 5.088, 5.09 , 5.092, 5.094, 5.096,\n",
      "       5.098, 5.1  ]), <BarContainer object of 10 artists>)\n",
      "(array([ 2.,  3.,  6.,  1., 11.,  7.,  0.,  8.,  1.,  1.]), array([15.25 , 15.257, 15.264, 15.271, 15.278, 15.285, 15.292, 15.299,\n",
      "       15.306, 15.313, 15.32 ]), <BarContainer object of 10 artists>)\n",
      "(array([ 2.,  3.,  0.,  4.,  5., 13.,  4.,  7.,  0.,  2.]), array([25.41 , 25.422, 25.434, 25.446, 25.458, 25.47 , 25.482, 25.494,\n",
      "       25.506, 25.518, 25.53 ]), <BarContainer object of 10 artists>)\n"
     ]
    },
    {
     "data": {
      "image/png": "[encoded data removed]",
      "text/plain": [
       "<Figure size 432x288 with 1 Axes>"
      ]
     },
     "metadata": {
      "needs_background": "light"
     },
     "output_type": "display_data"
    }
   ],
   "source": [
    "#histogram code\n",
    "\n",
    "import csv, glob, matplotlib.pyplot as plt, os.path, numpy as np;\n",
    "from csv import reader\n",
    "\n",
    "homedir = '/Volumes/GoogleDrive/.shortcut-targets-by-id/1OcwVYdCFsNitauuq7YD82J3wd781RFEz/Zhao_Nicole /jupyter_homedir/BPF_results/test/'\n",
    "os.chdir(homedir)\n",
    "\n",
    "#make a list of all folders\n",
    "dirs = [d for d in os.listdir(homedir) if os.path.isdir(os.path.join(homedir, d))]\n",
    "\n",
    "#create lists to store histogram x&y values pulled from files\n",
    "f0_50 = []\n",
    "f0_150 = []\n",
    "f0_250 = []\n",
    "\n",
    "bw_50 = []\n",
    "bw_150 = []\n",
    "bw_250 = []\n",
    "\n",
    "q_50 = []\n",
    "q_150 = []\n",
    "q_250 = []\n",
    "\n",
    "#iterate through data files to populate the lists\n",
    "for d in dirs: \n",
    "    file_list = glob.glob(homedir + '/' + d + '/data*.csv')\n",
    "    file_list.sort()\n",
    "    #print(file_list)\n",
    "    \n",
    "    for file in file_list:\n",
    "        data = pd.read_csv(file)\n",
    "        if data.size != 0:\n",
    "            f0_50.append(data[\"f0Meas_Hz\"][0])\n",
    "            f0_150.append(data[\"f0Meas_Hz\"][1])\n",
    "            f0_250.append(data[\"f0Meas_Hz\"][2])\n",
    "\n",
    "            bw_50.append(data[\"BW_3dB\"][0])\n",
    "            bw_150.append(data[\"BW_3dB\"][1])\n",
    "            bw_250.append(data[\"BW_3dB\"][2])\n",
    "\n",
    "            q_50.append(data[\"Ratio\"][0])\n",
    "            q_150.append(data[\"Ratio\"][0])\n",
    "            q_250.append(data[\"Ratio\"][0])    \n",
    "\n",
    "#concatenate \n",
    "q_total = np.concatenate((q50, q150, q250))\n",
    "\n",
    "#convert the list to arrays\n",
    "#arr_50 = np.array(f0_50)\n",
    "#arr_150 = np.array(f0_150)\n",
    "#arr_250=np.array(f0_250)\n",
    "\n",
    "print(f0_50)\n",
    "\n",
    "\n"
   ]
  },
  {
   "cell_type": "code",
   "execution_count": 44,
   "id": "5d2937cd",
   "metadata": {},
   "outputs": [
    {
     "name": "stdout",
     "output_type": "stream",
     "text": [
      "[9.8504139, 9.84, 9.83, 9.82, 9.83, 9.85, 9.84, 9.86, 9.85, 9.84, 9.85, 9.84, 9.85, 9.82, 9.84, 9.84, 9.83, 9.83, 9.85, 9.84, 9.84, 9.84, 9.85, 9.85, 9.86, 9.84, 9.83, 9.83, 9.84, 9.84, 9.84, 9.86, 9.83, 9.84, 9.85, 9.84, 9.85, 9.84, 9.82, 9.84, 9.8433834, 9.83, 9.83, 9.82, 9.83, 9.84, 9.83, 9.85, 9.84, 9.84, 9.84, 9.84, 9.85, 9.82, 9.84, 9.83, 9.83, 9.83, 9.85, 9.83, 9.84, 9.83, 9.84, 9.85, 9.85, 9.83, 9.83, 9.83, 9.83, 9.84, 9.84, 9.85, 9.83, 9.84, 9.84, 9.83, 9.84, 9.83, 9.82, 9.83, 9.8443397, 9.83, 9.82, 9.82, 9.83, 9.84, 9.83, 9.85, 9.84, 9.84, 9.84, 9.84, 9.85, 9.82, 9.84, 9.83, 9.83, 9.83, 9.85, 9.83, 9.84, 9.83, 9.84, 9.85, 9.85, 9.83, 9.83, 9.83, 9.83, 9.84, 9.84, 9.85, 9.83, 9.84, 9.84, 9.83, 9.84, 9.83, 9.82, 9.83]\n",
      "[9.8504139 9.84      9.83      9.82      9.83      9.85      9.84\n",
      " 9.86      9.85      9.84      9.85      9.84      9.85      9.82\n",
      " 9.84      9.84      9.83      9.83      9.85      9.84      9.84\n",
      " 9.84      9.85      9.85      9.86      9.84      9.83      9.83\n",
      " 9.84      9.84      9.84      9.86      9.83      9.84      9.85\n",
      " 9.84      9.85      9.84      9.82      9.84      9.8433834 9.83\n",
      " 9.83      9.82      9.83      9.84      9.83      9.85      9.84\n",
      " 9.84      9.84      9.84      9.85      9.82      9.84      9.83\n",
      " 9.83      9.83      9.85      9.83      9.84      9.83      9.84\n",
      " 9.85      9.85      9.83      9.83      9.83      9.83      9.84\n",
      " 9.84      9.85      9.83      9.84      9.84      9.83      9.84\n",
      " 9.83      9.82      9.83      9.8443397 9.83      9.82      9.82\n",
      " 9.83      9.84      9.83      9.85      9.84      9.84      9.84\n",
      " 9.84      9.85      9.82      9.84      9.83      9.83      9.83\n",
      " 9.85      9.83      9.84      9.83      9.84      9.85      9.85\n",
      " 9.83      9.83      9.83      9.83      9.84      9.84      9.85\n",
      " 9.83      9.84      9.84      9.83      9.84      9.83      9.82\n",
      " 9.83     ]\n"
     ]
    }
   ],
   "source": [
    "import csv, glob, matplotlib.pyplot as plt, os.path, numpy as np;\n",
    "from csv import reader\n",
    "\n",
    "homedir = '/Volumes/GoogleDrive/.shortcut-targets-by-id/1OcwVYdCFsNitauuq7YD82J3wd781RFEz/Zhao_Nicole /jupyter_homedir/BPF_results/test/'\n",
    "os.chdir(homedir)\n",
    "\n",
    "#make a list of all folders\n",
    "dirs = [d for d in os.listdir(homedir) if os.path.isdir(os.path.join(homedir, d))]\n",
    "\n",
    "#create lists to store histogram x&y values pulled from files\n",
    "f0_50 = []\n",
    "f0_150 = []\n",
    "f0_250 = []\n",
    "\n",
    "bw_50 = []\n",
    "bw_150 = []\n",
    "bw_250 = []\n",
    "\n",
    "q_50 = []\n",
    "q_150 = []\n",
    "q_250 = []\n",
    "\n",
    "#iterate through data files to populate the lists\n",
    "for d in dirs: \n",
    "    file_list = glob.glob(homedir + '/' + d + '/data*.csv')\n",
    "    file_list.sort()\n",
    "    #print(file_list)\n",
    "    \n",
    "    for file in file_list:\n",
    "        data = pd.read_csv(file)\n",
    "        if data.size != 0:\n",
    "            f0_50.append(data[\"f0Meas_Hz\"][0])\n",
    "            f0_150.append(data[\"f0Meas_Hz\"][1])\n",
    "            f0_250.append(data[\"f0Meas_Hz\"][2])\n",
    "\n",
    "            bw_50.append(data[\"BW_3dB\"][0])\n",
    "            bw_150.append(data[\"BW_3dB\"][1])\n",
    "            bw_250.append(data[\"BW_3dB\"][2])\n",
    "\n",
    "            q_50.append(data[\"Ratio\"][0])\n",
    "            q_150.append(data[\"Ratio\"][1])\n",
    "            q_250.append(data[\"Ratio\"][2])    \n",
    "\n",
    "#concatenate list to make one q value list\n",
    "q_total = q_50+ q_150+ q_250\n",
    "print(q_total)\n",
    "\n",
    "#turn into array\n",
    "arr_q= np.array(q_total)\n",
    "print(arr_q)"
   ]
  },
  {
   "cell_type": "code",
   "execution_count": 24,
   "id": "c272eabe",
   "metadata": {},
   "outputs": [
    {
     "name": "stdout",
     "output_type": "stream",
     "text": [
      "[9.8504139, 9.84, 9.83, 9.82, 9.83, 9.85, 9.84, 9.86, 9.85, 9.84, 9.85, 9.84, 9.85, 9.82, 9.84, 9.84, 9.83, 9.83, 9.85, 9.84, 9.84, 9.84, 9.85, 9.85, 9.86, 9.84, 9.83, 9.83, 9.84, 9.84, 9.84, 9.86, 9.83, 9.84, 9.85, 9.84, 9.85, 9.84, 9.82, 9.84]\n"
     ]
    }
   ],
   "source": [
    "#iterating over 3 plot types & data sets\n",
    "\n",
    "plot_types = ['f0','bw','q']\n",
    "plot_names = ['Center frequency [Hz]','Bandwidth below 3dB [Hz]','Ratio [dB]']\n",
    "x = range(len(plot_types))\n",
    "\n",
    "for i in x:\n",
    "    arr_50 = np.array(str(plot_types[i]+'_50'))\n",
    "    arr_150 = np.array(str(plot_types[i]+'_150'))\n",
    "    arr_250= np.array(str(plot_types[i]+'_250'))\n"
   ]
  },
  {
   "cell_type": "code",
   "execution_count": 80,
   "id": "4c5143c4",
   "metadata": {},
   "outputs": [
    {
     "data": {
      "image/png": "[encoded data removed]",
      "text/plain": [
       "<Figure size 1296x432 with 3 Axes>"
      ]
     },
     "metadata": {
      "needs_background": "light"
     },
     "output_type": "display_data"
    }
   ],
   "source": [
    "arr_50 = np.array(bw_50)\n",
    "arr_150 = np.array(bw_150)\n",
    "arr_250= np.array(bw_250)\n",
    "\n",
    "# Compute mean and stdev of measured f0 values at each frequency\n",
    "mean050, sig050 = np.mean(arr_50),  np.std(arr_50)\n",
    "mean150, sig150 = np.mean(arr_150), np.std(arr_150)\n",
    "mean250, sig250 = np.mean(arr_250), np.std(arr_250)\n",
    "\n",
    "# Set up to make 3 histograms\n",
    "fig, axs = plt.subplots(nrows=1, ncols=3, figsize=(18,6))\n",
    "nbins=10 # per histogram\n",
    "\n",
    "# plot hists\n",
    "axs[0].hist(arr_50, bins=nbins, histtype='step', color='k')\n",
    "axs[0].xaxis.set_tick_params(rotation=45)\n",
    "axs[1].hist(arr_150, bins=nbins, histtype='step', color='k')\n",
    "axs[2].hist(arr_250, bins=nbins, histtype='step', color='k')\n",
    "\n",
    "# Annotate\n",
    "axs[0].set_ylabel(\"Number of chips\")\n",
    "#axs[0].set_xlabel('f0=50 Hz')\n",
    "#axs[1].set_xlabel('f0=150 Hz')\n",
    "#axs[2].set_xlabel('f0=250 Hz')\n",
    "axs[0].text(0.05, -0.15\n",
    "        , f'Bandwidth [Hz] ', \n",
    "            transform=axs[0].transAxes)\n",
    "axs[0].text(0.05, 0.9, f'{mean050:0.2f} +/- {sig050:0.2f}'     \n",
    "         '\\nf0=50 Hz', \n",
    "            transform=axs[0].transAxes)\n",
    "axs[1].text(0.05, 0.9, f'{mean150:0.2f} +/- {sig150:0.2f}'\n",
    "            '\\nf0=150 Hz', \n",
    "            transform=axs[1].transAxes)\n",
    "axs[2].text(0.05, 0.9, f'{mean250:0.2f} +/- {sig250:0.2f}'\n",
    "            '\\nf0=250 Hz', \n",
    "            transform=axs[2].transAxes)\n",
    "\n",
    "plt.savefig('Bandwidth [Hz].jpg')\n",
    "    "
   ]
  },
  {
   "cell_type": "code",
   "execution_count": 68,
   "id": "ef9062f0",
   "metadata": {},
   "outputs": [
    {
     "data": {
      "image/png": "[encoded data removed]",
      "text/plain": [
       "<Figure size 432x288 with 1 Axes>"
      ]
     },
     "metadata": {
      "needs_background": "light"
     },
     "output_type": "display_data"
    }
   ],
   "source": [
    "#plotting one histogram for all q values\n",
    "\n",
    "meanq, sigq = np.mean(arr_q), np.std(arr_q)\n",
    "nbins=10 # per histogram\n",
    "\n",
    "#plot histogram\n",
    "plt.hist(arr_q, bins=nbins, histtype='step', color='k')\n",
    "\n",
    "#format\n",
    "plt.ylabel(\"Number of chips\")\n",
    "plt.xlabel('Ratio = f0/BW at all f0')\n",
    "#axs[0].text(0.05, -0.14, f'Ratio', transform=axs[0].transAxes)\n",
    "plt.text(-0.35, 0.55, f'{mean050:0.2f} +/- {sig050:0.2f}', \n",
    "            transform=axs[0].transAxes)\n",
    "plt.savefig('Ratio_all.jpg')"
   ]
  },
  {
   "cell_type": "code",
   "execution_count": null,
   "id": "d162426d",
   "metadata": {},
   "outputs": [],
   "source": []
  }
 ],
 "metadata": {
  "kernelspec": {
   "display_name": "Python 3",
   "language": "python",
   "name": "python3"
  },
  "language_info": {
   "codemirror_mode": {
    "name": "ipython",
    "version": 3
   },
   "file_extension": ".py",
   "mimetype": "text/x-python",
   "name": "python",
   "nbconvert_exporter": "python",
   "pygments_lexer": "ipython3",
   "version": "3.8.8"
  }
 },
 "nbformat": 4,
 "nbformat_minor": 5
}
