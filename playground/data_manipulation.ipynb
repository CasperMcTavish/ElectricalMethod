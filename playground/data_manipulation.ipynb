{
 "cells": [
  {
   "cell_type": "markdown",
   "id": "a288495f-1f78-436e-bfc8-7c4473e2d7ca",
   "metadata": {},
   "source": [
    "## Code testing opening and plotting the json files.\n",
    "Creating a separate notebook before squashing it into a py script for testing purposes\n",
    "\n",
    "John Waiton, PhD Student @ University of Manchester  \n",
    "john.waiton@postgrad.manchester.ac.uk  \n",
    "Schuster 1.10  "
   ]
  },
  {
   "cell_type": "code",
   "execution_count": 1,
   "id": "13f78ecb-6324-427e-a86d-4d68bf3370af",
   "metadata": {},
   "outputs": [],
   "source": [
    "import json\n",
    "import pandas as pd\n",
    "import matplotlib.pyplot as plt\n"
   ]
  },
  {
   "cell_type": "code",
   "execution_count": 2,
   "id": "621ffb6e-108b-4de4-a1c4-7dea27af0881",
   "metadata": {},
   "outputs": [],
   "source": [
    "# Processing json file\n",
    "\n",
    "file_path = 'processed/'\n",
    "file = '1c20db80-13aa-fc5a-6806-173f6332478d.json'\n",
    "\n",
    "# open file\n",
    "f = open(file_path + file)\n",
    "\n",
    "# return as dictionary\n",
    "data = json.load(f)\n",
    "\n",
    "# close json file\n",
    "f.close()"
   ]
  },
  {
   "cell_type": "code",
   "execution_count": 3,
   "id": "61322af7-b26b-45cd-9dc8-7d0710daf51d",
   "metadata": {
    "tags": []
   },
   "outputs": [
    {
     "name": "stdout",
     "output_type": "stream",
     "text": [
      "{'continuity': {}, 'tension': {'20220425T064006_G_A_2_66-68-70-72-74-76-78-80_T': {'algo_ver': '8106f14b', 'submitted': 'Auto', 'tension': 5.530321384052335, 'tension_confidence': 0.0}}}\n"
     ]
    }
   ],
   "source": [
    "# Look at data\n",
    "print(data['Installation (Bottom)']['G']['A']['00072'])"
   ]
  },
  {
   "cell_type": "code",
   "execution_count": 35,
   "id": "b29d1a30-7688-4811-bc6e-4b9c0a0b3b0c",
   "metadata": {},
   "outputs": [],
   "source": [
    "# for refreshing the below function while bug testing\n",
    "del(dict)"
   ]
  },
  {
   "cell_type": "code",
   "execution_count": 37,
   "id": "5f533c66-1916-4b50-887a-6d18ea2bce8c",
   "metadata": {
    "tags": []
   },
   "outputs": [],
   "source": [
    "\n",
    "selection = 'Installation (Bottom)'\n",
    "\n",
    "dict = {}\n",
    "\n",
    "# # digs through G, V, X, A, etc, Choose your starting environment\n",
    "for i in data[selection]:\n",
    "    \n",
    "    # (re)create the arrays\n",
    "    wire_tension = []\n",
    "    wire_tenstd = []\n",
    "    wire_number = []\n",
    "    # G - A, G - B, etc\n",
    "    #print(i)\n",
    "    for j in data[selection][str(i)]:\n",
    "        # (re)create the arrays\n",
    "        wire_tension = []\n",
    "        wire_tenstd = []\n",
    "        wire_number = []\n",
    "        # each individual wire is here\n",
    "        for k in data[selection][str(i)][str(j)]:\n",
    "            \n",
    "            # write wire number to array, then get the tension value for said wire\n",
    "            wire_number.append(k)\n",
    "            #print(k)\n",
    "            \n",
    "            # collect tension dictionary\n",
    "            tens_dict = data[selection][str(i)][str(j)][str(k)][\"tension\"]\n",
    "            \n",
    "            # if no tension value (empty dictionary)\n",
    "            if len(tens_dict) == 0:\n",
    "                \n",
    "                wire_tension.append(0.0)\n",
    "                wire_tenstd.append(0.0)\n",
    "                #print('lol')\n",
    "            else:\n",
    "                # if tension value exists, find it within dictionary. it'll be either 'tension': 'Not Found' or tension and tension_confidence\n",
    "                values = list(tens_dict.values())\n",
    "                \n",
    "                # if statement 'Tension not found' occurs, don't collect tension_confidence or tension itself, just set to zero\n",
    "                if values[0]['tension'] == 'Not Found':\n",
    "                             wire_tension.append(0.0)\n",
    "                             wire_tenstd.append(0.0)\n",
    "                else:\n",
    "                             \n",
    "                    wire_tension.append(values[0]['tension'])\n",
    "                    wire_tenstd.append(values[0]['tension_confidence'])\n",
    "\n",
    "                    \n",
    "        \n",
    "        # now here, cleaning up the data basically, although not much\n",
    "        namewt = 'wt'\n",
    "        namewstd = 'wstd'\n",
    "        namewno = 'wno'\n",
    "        \n",
    "        depth = str(i) + \"_\" + str(j)\n",
    "        \n",
    "        dict[depth] = {}\n",
    "        dict[depth][namewt] = wire_tension\n",
    "        dict[depth][namewstd] = wire_tenstd\n",
    "        dict[depth][namewno] = wire_number\n",
    "        \n",
    "        # resetting to make sure it doesn't get messy\n",
    "        del(wire_tension)\n",
    "        del(wire_tenstd)\n",
    "        del(wire_number)\n",
    "                        \n",
    "                "
   ]
  },
  {
   "cell_type": "code",
   "execution_count": 38,
   "id": "8f9160e6-b002-4eca-8b24-6b08e402341d",
   "metadata": {},
   "outputs": [
    {
     "data": {
      "text/html": [
       "<div>\n",
       "<style scoped>\n",
       "    .dataframe tbody tr th:only-of-type {\n",
       "        vertical-align: middle;\n",
       "    }\n",
       "\n",
       "    .dataframe tbody tr th {\n",
       "        vertical-align: top;\n",
       "    }\n",
       "\n",
       "    .dataframe thead th {\n",
       "        text-align: right;\n",
       "    }\n",
       "</style>\n",
       "<table border=\"1\" class=\"dataframe\">\n",
       "  <thead>\n",
       "    <tr style=\"text-align: right;\">\n",
       "      <th></th>\n",
       "      <th>G_A</th>\n",
       "      <th>G_B</th>\n",
       "      <th>U_A</th>\n",
       "      <th>U_B</th>\n",
       "      <th>V_A</th>\n",
       "      <th>V_B</th>\n",
       "      <th>X_A</th>\n",
       "      <th>X_B</th>\n",
       "    </tr>\n",
       "  </thead>\n",
       "  <tbody>\n",
       "    <tr>\n",
       "      <th>wt</th>\n",
       "      <td>[0.0, 0.0, 0.0, 0.0, 0.0, 0.0, 0.0, 0.0, 0.0, ...</td>\n",
       "      <td>[0.0, 0.0, 0.0, 0.0, 0.0, 0.0, 0.0, 0.0, 0.0, ...</td>\n",
       "      <td>[0.0, 0.0, 0.0, 0.0, 0.0, 0.0, 0.0, 0.0, 0.0, ...</td>\n",
       "      <td>[0.0, 0.0, 0.0, 0.0, 0.0, 0.0, 0.0, 0.0, 0.0, ...</td>\n",
       "      <td>[0.0, 0.0, 0.0, 0.0, 0.0, 0.0, 0.0, 0.0, 0.0, ...</td>\n",
       "      <td>[0.0, 0.0, 0.0, 0.0, 0.0, 0.0, 0.0, 0.0, 0.0, ...</td>\n",
       "      <td>[0.0, 0.0, 0.0, 0.0, 0.0, 0.0, 0.0, 0.0, 0.0, ...</td>\n",
       "      <td>[0.0, 0.0, 0.0, 0.0, 0.0, 0.0, 0.0, 0.0, 0.0, ...</td>\n",
       "    </tr>\n",
       "    <tr>\n",
       "      <th>wstd</th>\n",
       "      <td>[0.0, 0.0, 0.0, 0.0, 0.0, 0.0, 0.0, 0.0, 0.0, ...</td>\n",
       "      <td>[0.0, 0.0, 0.0, 0.0, 0.0, 0.0, 0.0, 0.0, 0.0, ...</td>\n",
       "      <td>[0.0, 0.0, 0.0, 0.0, 0.0, 0.0, 0.0, 0.0, 0.0, ...</td>\n",
       "      <td>[0.0, 0.0, 0.0, 0.0, 0.0, 0.0, 0.0, 0.0, 0.0, ...</td>\n",
       "      <td>[0.0, 0.0, 0.0, 0.0, 0.0, 0.0, 0.0, 0.0, 0.0, ...</td>\n",
       "      <td>[0.0, 0.0, 0.0, 0.0, 0.0, 0.0, 0.0, 0.0, 0.0, ...</td>\n",
       "      <td>[0.0, 0.0, 0.0, 0.0, 0.0, 0.0, 0.0, 0.0, 0.0, ...</td>\n",
       "      <td>[0.0, 0.0, 0.0, 0.0, 0.0, 0.0, 0.0, 0.0, 0.0, ...</td>\n",
       "    </tr>\n",
       "    <tr>\n",
       "      <th>wno</th>\n",
       "      <td>[00000, 00001, 00002, 00003, 00004, 00005, 000...</td>\n",
       "      <td>[00000, 00001, 00002, 00003, 00004, 00005, 000...</td>\n",
       "      <td>[00000, 00001, 00002, 00003, 00004, 00005, 000...</td>\n",
       "      <td>[00000, 00001, 00002, 00003, 00004, 00005, 000...</td>\n",
       "      <td>[00000, 00001, 00002, 00003, 00004, 00005, 000...</td>\n",
       "      <td>[00000, 00001, 00002, 00003, 00004, 00005, 000...</td>\n",
       "      <td>[00000, 00001, 00002, 00003, 00004, 00005, 000...</td>\n",
       "      <td>[00000, 00001, 00002, 00003, 00004, 00005, 000...</td>\n",
       "    </tr>\n",
       "  </tbody>\n",
       "</table>\n",
       "</div>"
      ],
      "text/plain": [
       "                                                    G_A  \\\n",
       "wt    [0.0, 0.0, 0.0, 0.0, 0.0, 0.0, 0.0, 0.0, 0.0, ...   \n",
       "wstd  [0.0, 0.0, 0.0, 0.0, 0.0, 0.0, 0.0, 0.0, 0.0, ...   \n",
       "wno   [00000, 00001, 00002, 00003, 00004, 00005, 000...   \n",
       "\n",
       "                                                    G_B  \\\n",
       "wt    [0.0, 0.0, 0.0, 0.0, 0.0, 0.0, 0.0, 0.0, 0.0, ...   \n",
       "wstd  [0.0, 0.0, 0.0, 0.0, 0.0, 0.0, 0.0, 0.0, 0.0, ...   \n",
       "wno   [00000, 00001, 00002, 00003, 00004, 00005, 000...   \n",
       "\n",
       "                                                    U_A  \\\n",
       "wt    [0.0, 0.0, 0.0, 0.0, 0.0, 0.0, 0.0, 0.0, 0.0, ...   \n",
       "wstd  [0.0, 0.0, 0.0, 0.0, 0.0, 0.0, 0.0, 0.0, 0.0, ...   \n",
       "wno   [00000, 00001, 00002, 00003, 00004, 00005, 000...   \n",
       "\n",
       "                                                    U_B  \\\n",
       "wt    [0.0, 0.0, 0.0, 0.0, 0.0, 0.0, 0.0, 0.0, 0.0, ...   \n",
       "wstd  [0.0, 0.0, 0.0, 0.0, 0.0, 0.0, 0.0, 0.0, 0.0, ...   \n",
       "wno   [00000, 00001, 00002, 00003, 00004, 00005, 000...   \n",
       "\n",
       "                                                    V_A  \\\n",
       "wt    [0.0, 0.0, 0.0, 0.0, 0.0, 0.0, 0.0, 0.0, 0.0, ...   \n",
       "wstd  [0.0, 0.0, 0.0, 0.0, 0.0, 0.0, 0.0, 0.0, 0.0, ...   \n",
       "wno   [00000, 00001, 00002, 00003, 00004, 00005, 000...   \n",
       "\n",
       "                                                    V_B  \\\n",
       "wt    [0.0, 0.0, 0.0, 0.0, 0.0, 0.0, 0.0, 0.0, 0.0, ...   \n",
       "wstd  [0.0, 0.0, 0.0, 0.0, 0.0, 0.0, 0.0, 0.0, 0.0, ...   \n",
       "wno   [00000, 00001, 00002, 00003, 00004, 00005, 000...   \n",
       "\n",
       "                                                    X_A  \\\n",
       "wt    [0.0, 0.0, 0.0, 0.0, 0.0, 0.0, 0.0, 0.0, 0.0, ...   \n",
       "wstd  [0.0, 0.0, 0.0, 0.0, 0.0, 0.0, 0.0, 0.0, 0.0, ...   \n",
       "wno   [00000, 00001, 00002, 00003, 00004, 00005, 000...   \n",
       "\n",
       "                                                    X_B  \n",
       "wt    [0.0, 0.0, 0.0, 0.0, 0.0, 0.0, 0.0, 0.0, 0.0, ...  \n",
       "wstd  [0.0, 0.0, 0.0, 0.0, 0.0, 0.0, 0.0, 0.0, 0.0, ...  \n",
       "wno   [00000, 00001, 00002, 00003, 00004, 00005, 000...  "
      ]
     },
     "execution_count": 38,
     "metadata": {},
     "output_type": "execute_result"
    }
   ],
   "source": [
    "#print(dict['G_A'])\n",
    "\n",
    "pd.DataFrame.from_dict(dict)\n"
   ]
  },
  {
   "cell_type": "code",
   "execution_count": 39,
   "id": "8521d4e4-f438-43f7-ad9f-1bba6f3ef70e",
   "metadata": {},
   "outputs": [
    {
     "name": "stdout",
     "output_type": "stream",
     "text": [
      "wt      5.567562\n",
      "wstd         0.0\n",
      "wno        00051\n",
      "Name: 51, dtype: object\n"
     ]
    }
   ],
   "source": [
    "# just G_A\n",
    "print(pd.DataFrame.from_dict(dict['G_A']).loc[51])"
   ]
  },
  {
   "cell_type": "code",
   "execution_count": 59,
   "id": "fb93e146-6e50-4c35-92e3-73b22598289e",
   "metadata": {},
   "outputs": [
    {
     "name": "stdout",
     "output_type": "stream",
     "text": [
      "['00480']\n"
     ]
    }
   ],
   "source": [
    "print(dict['G_A']['wno'][-1:])"
   ]
  },
  {
   "cell_type": "code",
   "execution_count": 68,
   "id": "59f7abbf-ee46-44cf-ac72-dcdefd7a199b",
   "metadata": {},
   "outputs": [
    {
     "data": {
      "image/png": "[encoded data removed]",
      "text/plain": [
       "<Figure size 640x480 with 1 Axes>"
      ]
     },
     "metadata": {},
     "output_type": "display_data"
    }
   ],
   "source": [
    "# now to plot this with a function\n",
    "\n",
    "plt.scatter(dict['G_A']['wno'], dict['G_A']['wt'], s = 10)\n",
    "plt.errorbar(dict['G_A']['wno'], dict['G_A']['wt'], yerr = dict['G_A']['wstd'], fmt = 'none')\n",
    "# fill between given values for tolerance\n",
    "plt.fill_between(dict['G_A']['wno'], 5.5, 7.5, color = 'purple', alpha = 0.3)\n",
    "\n",
    "# limit range\n",
    "plt.xlim([0,dict['G_A']['wno'][-1:]])\n",
    "\n",
    "# remove a bunch of the ticks, currently every 100\n",
    "ticks = list(dict['G_A']['wno'])\n",
    "plt.xticks([ticks[i] for i in range(len(ticks)) if i % 100 == 0], rotation='vertical')\n",
    "\n",
    "# labels\n",
    "plt.xlabel(\"Wire Number\")\n",
    "plt.ylabel(\"Wire Tension (N)\")\n",
    "\n",
    "# code this more complexly\n",
    "plt.title(\"G_A\")\n",
    "\n",
    "plt.show()"
   ]
  },
  {
   "cell_type": "code",
   "execution_count": null,
   "id": "aa705adb-88b1-4dae-acca-886bd7ffb6c2",
   "metadata": {},
   "outputs": [],
   "source": []
  },
  {
   "cell_type": "code",
   "execution_count": null,
   "id": "b3e58e02-e953-4e18-a842-9a540395b78e",
   "metadata": {},
   "outputs": [],
   "source": []
  }
 ],
 "metadata": {
  "kernelspec": {
   "display_name": "Python 3 (ipykernel)",
   "language": "python",
   "name": "python3"
  },
  "language_info": {
   "codemirror_mode": {
    "name": "ipython",
    "version": 3
   },
   "file_extension": ".py",
   "mimetype": "text/x-python",
   "name": "python",
   "nbconvert_exporter": "python",
   "pygments_lexer": "ipython3",
   "version": "3.8.10"
  }
 },
 "nbformat": 4,
 "nbformat_minor": 5
}
